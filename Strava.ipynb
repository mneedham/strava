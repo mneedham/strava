{
 "cells": [
  {
   "cell_type": "markdown",
   "metadata": {},
   "source": [
    "# Exploring the Strava Graph with Py2neo\n",
    "\n",
    "In this notebook we'll look at how to use [v4 of Py2neo](https://medium.com/neo4j/py2neo-v4-2bedc8afef2) to query a Neo4j database that contains running data from the Strava API.\n",
    "\n",
    "First we'll import the libray and create a connection to a database running locally:"
   ]
  },
  {
   "cell_type": "code",
   "execution_count": 1,
   "metadata": {
    "collapsed": true
   },
   "outputs": [],
   "source": [
    "from py2neo import Graph\n",
    "graph = Graph(\"bolt://localhost:7687\", auth=(\"neo4j\", \"neo\"))"
   ]
  },
  {
   "cell_type": "markdown",
   "metadata": {},
   "source": [
    "## Find the most recent activities\n",
    "\n",
    "Let's start by finding the 10 most recent runs along with the distance, time, and pace for each of them.\n",
    "The following query returns this information:"
   ]
  },
  {
   "cell_type": "code",
   "execution_count": 2,
   "metadata": {},
   "outputs": [
    {
     "data": {
      "text/html": [
       "<table><tr><th>r.name</th><th>dateOfRun</th><th>r.distance</th><th>time</th><th>overallPace</th></tr><tr><td style=\"text-align:left\">Morning Run</td><td style=\"text-align:left\">Jun 13 2018</td><td style=\"text-align:right\">10780.2</td><td style=\"text-align:left\">00:49:11</td><td style=\"text-align:left\">07:20</td></tr><tr><td style=\"text-align:left\">Morning Run</td><td style=\"text-align:left\">Jun 11 2018</td><td style=\"text-align:right\">10035.8</td><td style=\"text-align:left\">00:45:53</td><td style=\"text-align:left\">07:21</td></tr><tr><td style=\"text-align:left\">Morning Run</td><td style=\"text-align:left\">Jun 9 2018</td><td style=\"text-align:right\">11043.2</td><td style=\"text-align:left\">00:48:29</td><td style=\"text-align:left\">07:03</td></tr><tr><td style=\"text-align:left\">Morning Run</td><td style=\"text-align:left\">Jun 8 2018</td><td style=\"text-align:right\">11281.2</td><td style=\"text-align:left\">00:51:57</td><td style=\"text-align:left\">07:24</td></tr><tr><td style=\"text-align:left\">Morning Run</td><td style=\"text-align:left\">Jun 6 2018</td><td style=\"text-align:right\">10884.9</td><td style=\"text-align:left\">00:48:38</td><td style=\"text-align:left\">07:11</td></tr><tr><td style=\"text-align:left\">Morning Run</td><td style=\"text-align:left\">Jun 4 2018</td><td style=\"text-align:right\">10030.5</td><td style=\"text-align:left\">00:44:14</td><td style=\"text-align:left\">07:05</td></tr><tr><td style=\"text-align:left\">Morning Run</td><td style=\"text-align:left\">Jun 2 2018</td><td style=\"text-align:right\">13039.8</td><td style=\"text-align:left\">00:57:41</td><td style=\"text-align:left\">07:07</td></tr><tr><td style=\"text-align:left\">Morning Run</td><td style=\"text-align:left\">Jun 1 2018</td><td style=\"text-align:right\">10701.7</td><td style=\"text-align:left\">00:48:02</td><td style=\"text-align:left\">07:13</td></tr><tr><td style=\"text-align:left\">Morning Run</td><td style=\"text-align:left\">May 30 2018</td><td style=\"text-align:right\">9828.4</td><td style=\"text-align:left\">00:46:06</td><td style=\"text-align:left\">07:32</td></tr><tr><td style=\"text-align:left\">Morning Run</td><td style=\"text-align:left\">May 28 2018</td><td style=\"text-align:right\">10193.0</td><td style=\"text-align:left\">00:46:42</td><td style=\"text-align:left\">07:22</td></tr></table>"
      ],
      "text/plain": [
       " r.name      | dateOfRun   | r.distance | time     | overallPace \r\n",
       "-------------|-------------|------------|----------|-------------\r\n",
       " Morning Run | Jun 13 2018 |    10780.2 | 00:49:11 | 07:20       \r\n",
       " Morning Run | Jun 11 2018 |    10035.8 | 00:45:53 | 07:21       \r\n",
       " Morning Run | Jun 9 2018  |    11043.2 | 00:48:29 | 07:03       \r\n",
       " Morning Run | Jun 8 2018  |    11281.2 | 00:51:57 | 07:24       \r\n",
       " Morning Run | Jun 6 2018  |    10884.9 | 00:48:38 | 07:11       \r\n",
       " Morning Run | Jun 4 2018  |    10030.5 | 00:44:14 | 07:05       \r\n",
       " Morning Run | Jun 2 2018  |    13039.8 | 00:57:41 | 07:07       \r\n",
       " Morning Run | Jun 1 2018  |    10701.7 | 00:48:02 | 07:13       \r\n",
       " Morning Run | May 30 2018 |     9828.4 | 00:46:06 | 07:32       \r\n",
       " Morning Run | May 28 2018 |    10193.0 | 00:46:42 | 07:22       \r\n"
      ]
     },
     "execution_count": 2,
     "metadata": {},
     "output_type": "execute_result"
    }
   ],
   "source": [
    "graph.run(\"\"\"\\\n",
    "MATCH (r:Run)\n",
    "WITH r { .id, .startDate, .name, .movingTime, .distance,\n",
    "           pace: duration({seconds: r.movingTime.seconds / r.distance * 1609.34})\n",
    "         }\n",
    "RETURN r.name, \n",
    "       apoc.date.format(r.startDate.epochSeconds, 's', 'MMM d yyyy') AS dateOfRun,\n",
    "       r.distance, \n",
    "       apoc.date.format(r.movingTime.milliseconds, 'ms', 'HH:mm:ss') AS time,\n",
    "       apoc.date.format(r.pace.milliseconds, \"ms\", \"mm:ss\") AS overallPace\n",
    "ORDER BY r.startDate DESC\n",
    "LIMIT 10\n",
    "\"\"\").to_table()"
   ]
  },
  {
   "cell_type": "markdown",
   "metadata": {
    "collapsed": true
   },
   "source": [
    "## Find the most recent activities in 2017\n",
    "\n",
    "What if we want the find activities for a particular year?"
   ]
  },
  {
   "cell_type": "code",
   "execution_count": 3,
   "metadata": {},
   "outputs": [
    {
     "data": {
      "text/html": [
       "<table><tr><th>r.name</th><th>dateOfRun</th><th>r.distance</th><th>time</th><th>overallPace</th></tr><tr><td style=\"text-align:left\">Evening Run</td><td style=\"text-align:left\">Dec 30 2017</td><td style=\"text-align:right\">7773.6</td><td style=\"text-align:left\">00:36:34</td><td style=\"text-align:left\">07:34</td></tr><tr><td style=\"text-align:left\">Morning Run</td><td style=\"text-align:left\">Dec 29 2017</td><td style=\"text-align:right\">10528.1</td><td style=\"text-align:left\">00:49:57</td><td style=\"text-align:left\">07:38</td></tr><tr><td style=\"text-align:left\">Lunch Run</td><td style=\"text-align:left\">Dec 27 2017</td><td style=\"text-align:right\">8579.2</td><td style=\"text-align:left\">00:41:08</td><td style=\"text-align:left\">07:42</td></tr><tr><td style=\"text-align:left\">Morning Run</td><td style=\"text-align:left\">Dec 25 2017</td><td style=\"text-align:right\">8093.7</td><td style=\"text-align:left\">00:38:32</td><td style=\"text-align:left\">07:39</td></tr><tr><td style=\"text-align:left\">Evening Run</td><td style=\"text-align:left\">Dec 23 2017</td><td style=\"text-align:right\">8094.3</td><td style=\"text-align:left\">00:38:58</td><td style=\"text-align:left\">07:44</td></tr><tr><td style=\"text-align:left\">Lunch Run</td><td style=\"text-align:left\">Dec 22 2017</td><td style=\"text-align:right\">7547.1</td><td style=\"text-align:left\">00:36:23</td><td style=\"text-align:left\">07:45</td></tr><tr><td style=\"text-align:left\">Morning Run</td><td style=\"text-align:left\">Dec 20 2017</td><td style=\"text-align:right\">8106.8</td><td style=\"text-align:left\">00:38:47</td><td style=\"text-align:left\">07:41</td></tr><tr><td style=\"text-align:left\">Morning Run</td><td style=\"text-align:left\">Dec 18 2017</td><td style=\"text-align:right\">8070.3</td><td style=\"text-align:left\">00:40:43</td><td style=\"text-align:left\">08:07</td></tr><tr><td style=\"text-align:left\">Afternoon Run</td><td style=\"text-align:left\">Dec 16 2017</td><td style=\"text-align:right\">8497.1</td><td style=\"text-align:left\">00:41:02</td><td style=\"text-align:left\">07:46</td></tr><tr><td style=\"text-align:left\">Morning Run</td><td style=\"text-align:left\">Dec 15 2017</td><td style=\"text-align:right\">7613.0</td><td style=\"text-align:left\">00:36:01</td><td style=\"text-align:left\">07:36</td></tr></table>"
      ],
      "text/plain": [
       " r.name        | dateOfRun   | r.distance | time     | overallPace \r\n",
       "---------------|-------------|------------|----------|-------------\r\n",
       " Evening Run   | Dec 30 2017 |     7773.6 | 00:36:34 | 07:34       \r\n",
       " Morning Run   | Dec 29 2017 |    10528.1 | 00:49:57 | 07:38       \r\n",
       " Lunch Run     | Dec 27 2017 |     8579.2 | 00:41:08 | 07:42       \r\n",
       " Morning Run   | Dec 25 2017 |     8093.7 | 00:38:32 | 07:39       \r\n",
       " Evening Run   | Dec 23 2017 |     8094.3 | 00:38:58 | 07:44       \r\n",
       " Lunch Run     | Dec 22 2017 |     7547.1 | 00:36:23 | 07:45       \r\n",
       " Morning Run   | Dec 20 2017 |     8106.8 | 00:38:47 | 07:41       \r\n",
       " Morning Run   | Dec 18 2017 |     8070.3 | 00:40:43 | 08:07       \r\n",
       " Afternoon Run | Dec 16 2017 |     8497.1 | 00:41:02 | 07:46       \r\n",
       " Morning Run   | Dec 15 2017 |     7613.0 | 00:36:01 | 07:36       \r\n"
      ]
     },
     "execution_count": 3,
     "metadata": {},
     "output_type": "execute_result"
    }
   ],
   "source": [
    "graph.run(\"\"\"\\\n",
    "MATCH (r:Run)\n",
    "WHERE r.startDate.year = 2017\n",
    "WITH r { .id, .startDate, .name, .movingTime, .distance,\n",
    "           pace: duration({seconds: r.movingTime.seconds / r.distance * 1609.34})\n",
    "         }\n",
    "RETURN r.name, \n",
    "       apoc.date.format(r.startDate.epochSeconds, 's', 'MMM d yyyy') AS dateOfRun,\n",
    "       r.distance, \n",
    "       apoc.date.format(r.movingTime.milliseconds, 'ms', 'HH:mm:ss') AS time,\n",
    "       apoc.date.format(r.pace.milliseconds, \"ms\", \"mm:ss\") AS overallPace\n",
    "ORDER BY r.startDate DESC\n",
    "LIMIT 10\n",
    "\"\"\").to_table()"
   ]
  },
  {
   "cell_type": "markdown",
   "metadata": {},
   "source": [
    "## What was the longest distance run each year?"
   ]
  },
  {
   "cell_type": "code",
   "execution_count": 4,
   "metadata": {},
   "outputs": [
    {
     "data": {
      "text/html": [
       "<table><tr><th>year</th><th>longestRun.name</th><th>dateOfRun</th><th>longestRun.distance</th><th>time</th><th>overallPace</th></tr><tr><td style=\"text-align:right\">2014</td><td style=\"text-align:left\">Morning Run</td><td style=\"text-align:left\">Dec 3 2014</td><td style=\"text-align:right\">4703.9</td><td style=\"text-align:left\">00:28:18</td><td style=\"text-align:left\">09:40</td></tr><tr><td style=\"text-align:right\">2015</td><td style=\"text-align:left\">Morning Run</td><td style=\"text-align:left\">Dec 31 2015</td><td style=\"text-align:right\">9497.3</td><td style=\"text-align:left\">00:53:34</td><td style=\"text-align:left\">09:04</td></tr><tr><td style=\"text-align:right\">2016</td><td style=\"text-align:left\">Morning Run</td><td style=\"text-align:left\">Jan 2 2016</td><td style=\"text-align:right\">10457.9</td><td style=\"text-align:left\">00:56:57</td><td style=\"text-align:left\">08:45</td></tr><tr><td style=\"text-align:right\">2017</td><td style=\"text-align:left\">Morning Run</td><td style=\"text-align:left\">Jan 22 2017</td><td style=\"text-align:right\">10764.1</td><td style=\"text-align:left\">00:56:47</td><td style=\"text-align:left\">08:29</td></tr><tr><td style=\"text-align:right\">2018</td><td style=\"text-align:left\">Morning Run</td><td style=\"text-align:left\">May 19 2018</td><td style=\"text-align:right\">13635.2</td><td style=\"text-align:left\">01:01:27</td><td style=\"text-align:left\">07:15</td></tr></table>"
      ],
      "text/plain": [
       " year | longestRun.name | dateOfRun   | longestRun.distance | time     | overallPace \r\n",
       "------|-----------------|-------------|---------------------|----------|-------------\r\n",
       " 2014 | Morning Run     | Dec 3 2014  |              4703.9 | 00:28:18 | 09:40       \r\n",
       " 2015 | Morning Run     | Dec 31 2015 |              9497.3 | 00:53:34 | 09:04       \r\n",
       " 2016 | Morning Run     | Jan 2 2016  |             10457.9 | 00:56:57 | 08:45       \r\n",
       " 2017 | Morning Run     | Jan 22 2017 |             10764.1 | 00:56:47 | 08:29       \r\n",
       " 2018 | Morning Run     | May 19 2018 |             13635.2 | 01:01:27 | 07:15       \r\n"
      ]
     },
     "execution_count": 4,
     "metadata": {},
     "output_type": "execute_result"
    }
   ],
   "source": [
    "graph.run(\"\"\"\\\n",
    "MATCH (r:Run)\n",
    "WITH r\n",
    "ORDER BY r.startDate.year, r.distance DESC\n",
    "\n",
    "WITH r.startDate.year AS year, collect(r)[0] AS longestRun\n",
    "\n",
    "WITH year, \n",
    "     longestRun { .id, .startDate, .name, .movingTime, .distance,\n",
    "                  pace: duration({seconds: longestRun.movingTime.seconds / longestRun.distance * 1609.34})\n",
    "                }\n",
    "RETURN year,\n",
    "       longestRun.name, \n",
    "       apoc.date.format(longestRun.startDate.epochSeconds, 's', 'MMM d yyyy') AS dateOfRun,\n",
    "       longestRun.distance, \n",
    "       apoc.date.format(longestRun.movingTime.milliseconds, 'ms', 'HH:mm:ss') AS time,\n",
    "       apoc.date.format(longestRun.pace.milliseconds, \"ms\", \"mm:ss\") AS overallPace\n",
    "ORDER BY year       \n",
    "\"\"\").to_table()"
   ]
  },
  {
   "cell_type": "markdown",
   "metadata": {},
   "source": [
    "## What was the quickest run each year?"
   ]
  },
  {
   "cell_type": "code",
   "execution_count": 5,
   "metadata": {},
   "outputs": [
    {
     "data": {
      "text/html": [
       "<table><tr><th>year</th><th>longestRun.name</th><th>dateOfRun</th><th>longestRun.distance</th><th>time</th><th>overallPace</th></tr><tr><td style=\"text-align:right\">2014</td><td style=\"text-align:left\">Morning Run</td><td style=\"text-align:left\">Nov 29 2014</td><td style=\"text-align:right\">4136.0</td><td style=\"text-align:left\">00:22:20</td><td style=\"text-align:left\">08:41</td></tr><tr><td style=\"text-align:right\">2015</td><td style=\"text-align:left\">Evening Run</td><td style=\"text-align:left\">Jul 5 2015</td><td style=\"text-align:right\">4360.9</td><td style=\"text-align:left\">00:20:31</td><td style=\"text-align:left\">07:34</td></tr><tr><td style=\"text-align:right\">2016</td><td style=\"text-align:left\">Morning Run</td><td style=\"text-align:left\">Jul 22 2016</td><td style=\"text-align:right\">4147.5</td><td style=\"text-align:left\">00:18:30</td><td style=\"text-align:left\">07:10</td></tr><tr><td style=\"text-align:right\">2017</td><td style=\"text-align:left\">Morning Run</td><td style=\"text-align:left\">Mar 26 2017</td><td style=\"text-align:right\">5355.8</td><td style=\"text-align:left\">00:24:42</td><td style=\"text-align:left\">07:25</td></tr><tr><td style=\"text-align:right\">2018</td><td style=\"text-align:left\">Morning Run</td><td style=\"text-align:left\">Jun 9 2018</td><td style=\"text-align:right\">11043.2</td><td style=\"text-align:left\">00:48:29</td><td style=\"text-align:left\">07:03</td></tr></table>"
      ],
      "text/plain": [
       " year | longestRun.name | dateOfRun   | longestRun.distance | time     | overallPace \r\n",
       "------|-----------------|-------------|---------------------|----------|-------------\r\n",
       " 2014 | Morning Run     | Nov 29 2014 |              4136.0 | 00:22:20 | 08:41       \r\n",
       " 2015 | Evening Run     | Jul 5 2015  |              4360.9 | 00:20:31 | 07:34       \r\n",
       " 2016 | Morning Run     | Jul 22 2016 |              4147.5 | 00:18:30 | 07:10       \r\n",
       " 2017 | Morning Run     | Mar 26 2017 |              5355.8 | 00:24:42 | 07:25       \r\n",
       " 2018 | Morning Run     | Jun 9 2018  |             11043.2 | 00:48:29 | 07:03       \r\n"
      ]
     },
     "execution_count": 5,
     "metadata": {},
     "output_type": "execute_result"
    }
   ],
   "source": [
    "graph.run(\"\"\"\\\n",
    "MATCH (r:Run)\n",
    "WITH r { .id, .startDate, .name, .movingTime, .distance,\n",
    "         pace: duration({seconds: r.movingTime.seconds / r.distance * 1609.34})\n",
    "       }\n",
    "ORDER BY r.startDate.year, r.pace\n",
    "\n",
    "WITH r.startDate.year AS year, collect(r)[0] AS longestRun\n",
    "\n",
    "RETURN year,\n",
    "       longestRun.name, \n",
    "       apoc.date.format(longestRun.startDate.epochSeconds, 's', 'MMM d yyyy') AS dateOfRun,\n",
    "       longestRun.distance, \n",
    "       apoc.date.format(longestRun.movingTime.milliseconds, 'ms', 'HH:mm:ss') AS time,\n",
    "       apoc.date.format(longestRun.pace.milliseconds, \"ms\", \"mm:ss\") AS overallPace\n",
    "ORDER BY year       \n",
    "\"\"\").to_table()"
   ]
  },
  {
   "cell_type": "markdown",
   "metadata": {},
   "source": [
    "## What were my quickest estimated runs?\n",
    "\n",
    "In our graph we also have estimated attempts at different distances. \n",
    "For example, these are my best estimated 10k attempts:"
   ]
  },
  {
   "cell_type": "code",
   "execution_count": 6,
   "metadata": {},
   "outputs": [
    {
     "data": {
      "text/html": [
       "<table><tr><th>run.id</th><th>dateOfRun</th><th>time</th><th>pace</th><th>overallPace</th><th>totalDistance</th></tr><tr><td style=\"text-align:right\">1626636004</td><td style=\"text-align:left\">Jun 9 2018</td><td style=\"text-align:left\">44:05</td><td style=\"text-align:left\">07:05</td><td style=\"text-align:left\">07:05</td><td style=\"text-align:right\">11043.2</td></tr><tr><td style=\"text-align:right\">1611168962</td><td style=\"text-align:left\">Jun 2 2018</td><td style=\"text-align:left\">44:12</td><td style=\"text-align:left\">07:06</td><td style=\"text-align:left\">07:07</td><td style=\"text-align:right\">13039.8</td></tr><tr><td style=\"text-align:right\">1616050069</td><td style=\"text-align:left\">Jun 4 2018</td><td style=\"text-align:left\">44:35</td><td style=\"text-align:left\">07:10</td><td style=\"text-align:left\">07:10</td><td style=\"text-align:right\">10030.5</td></tr><tr><td style=\"text-align:right\">1620188065</td><td style=\"text-align:left\">Jun 6 2018</td><td style=\"text-align:left\">44:49</td><td style=\"text-align:left\">07:12</td><td style=\"text-align:left\">07:11</td><td style=\"text-align:right\">10884.9</td></tr><tr><td style=\"text-align:right\">1609355524</td><td style=\"text-align:left\">Jun 1 2018</td><td style=\"text-align:left\">44:59</td><td style=\"text-align:left\">07:14</td><td style=\"text-align:left\">07:13</td><td style=\"text-align:right\">10701.7</td></tr><tr><td style=\"text-align:right\">1581401227</td><td style=\"text-align:left\">May 19 2018</td><td style=\"text-align:left\">45:02</td><td style=\"text-align:left\">07:14</td><td style=\"text-align:left\">07:17</td><td style=\"text-align:right\">13635.2</td></tr><tr><td style=\"text-align:right\">1550422417</td><td style=\"text-align:left\">May 5 2018</td><td style=\"text-align:left\">45:26</td><td style=\"text-align:left\">07:18</td><td style=\"text-align:left\">07:20</td><td style=\"text-align:right\">11674.4</td></tr><tr><td style=\"text-align:right\">1585759604</td><td style=\"text-align:left\">May 21 2018</td><td style=\"text-align:left\">45:41</td><td style=\"text-align:left\">07:21</td><td style=\"text-align:left\">07:20</td><td style=\"text-align:right\">10147.0</td></tr><tr><td style=\"text-align:right\">1635264102</td><td style=\"text-align:left\">Jun 13 2018</td><td style=\"text-align:left\">45:48</td><td style=\"text-align:left\">07:22</td><td style=\"text-align:left\">07:21</td><td style=\"text-align:right\">10780.2</td></tr><tr><td style=\"text-align:right\">1575082905</td><td style=\"text-align:left\">May 16 2018</td><td style=\"text-align:left\">45:49</td><td style=\"text-align:left\">07:22</td><td style=\"text-align:left\">07:22</td><td style=\"text-align:right\">10148.8</td></tr></table>"
      ],
      "text/plain": [
       "     run.id | dateOfRun   | time  | pace  | overallPace | totalDistance \r\n",
       "------------|-------------|-------|-------|-------------|---------------\r\n",
       " 1626636004 | Jun 9 2018  | 44:05 | 07:05 | 07:05       |       11043.2 \r\n",
       " 1611168962 | Jun 2 2018  | 44:12 | 07:06 | 07:07       |       13039.8 \r\n",
       " 1616050069 | Jun 4 2018  | 44:35 | 07:10 | 07:10       |       10030.5 \r\n",
       " 1620188065 | Jun 6 2018  | 44:49 | 07:12 | 07:11       |       10884.9 \r\n",
       " 1609355524 | Jun 1 2018  | 44:59 | 07:14 | 07:13       |       10701.7 \r\n",
       " 1581401227 | May 19 2018 | 45:02 | 07:14 | 07:17       |       13635.2 \r\n",
       " 1550422417 | May 5 2018  | 45:26 | 07:18 | 07:20       |       11674.4 \r\n",
       " 1585759604 | May 21 2018 | 45:41 | 07:21 | 07:20       |       10147.0 \r\n",
       " 1635264102 | Jun 13 2018 | 45:48 | 07:22 | 07:21       |       10780.2 \r\n",
       " 1575082905 | May 16 2018 | 45:49 | 07:22 | 07:22       |       10148.8 \r\n"
      ]
     },
     "execution_count": 6,
     "metadata": {},
     "output_type": "execute_result"
    }
   ],
   "source": [
    "estimated_effort_query = \"\"\"\\\n",
    "MATCH (distance:Distance {name: {distance}})<-[:DISTANCE]-(effort)<-[:DISTANCE_EFFORT]-(run)\n",
    "\n",
    "WITH run { .id, .startDate, .distance,\n",
    "           pace: duration({seconds: run.elapsedTime.seconds / run.distance * 1609.34})\n",
    "         },\n",
    "     effort { .elapsedTime,\n",
    "              pace: duration({seconds: effort.elapsedTime.seconds / distance.distance * 1609.34  })\n",
    "            }\n",
    "\n",
    "RETURN run.id,\n",
    "       apoc.date.format(run.startDate.epochSeconds, 's', 'MMM d yyyy') AS dateOfRun,\n",
    "       apoc.date.format(effort.elapsedTime.milliseconds, 'ms', 'mm:ss') AS time,\n",
    "       apoc.date.format(effort.pace.milliseconds, \"ms\", \"mm:ss\") AS pace,\n",
    "       apoc.date.format(run.pace.milliseconds, \"ms\", \"mm:ss\") AS overallPace,\n",
    "       run.distance AS totalDistance \n",
    "ORDER BY effort.elapsedTime\n",
    "LIMIT {limit}\n",
    "\"\"\"\n",
    "\n",
    "graph.run(estimated_effort_query, {\"distance\": \"10k\", \"limit\": 10}).to_table()"
   ]
  },
  {
   "cell_type": "markdown",
   "metadata": {},
   "source": [
    "We can run the same query passing in a different value to the `distance` parameter:"
   ]
  },
  {
   "cell_type": "code",
   "execution_count": 7,
   "metadata": {},
   "outputs": [
    {
     "data": {
      "text/html": [
       "<table><tr><th>run.id</th><th>dateOfRun</th><th>time</th><th>pace</th><th>overallPace</th><th>totalDistance</th></tr><tr><td style=\"text-align:right\">1611168962</td><td style=\"text-align:left\">Jun 2 2018</td><td style=\"text-align:left\">21:24</td><td style=\"text-align:left\">06:53</td><td style=\"text-align:left\">07:07</td><td style=\"text-align:right\">13039.8</td></tr><tr><td style=\"text-align:right\">1626636004</td><td style=\"text-align:left\">Jun 9 2018</td><td style=\"text-align:left\">21:34</td><td style=\"text-align:left\">06:56</td><td style=\"text-align:left\">07:05</td><td style=\"text-align:right\">11043.2</td></tr><tr><td style=\"text-align:right\">1366081623</td><td style=\"text-align:left\">Jan 20 2018</td><td style=\"text-align:left\">21:55</td><td style=\"text-align:left\">07:03</td><td style=\"text-align:left\">07:16</td><td style=\"text-align:right\">8684.0</td></tr><tr><td style=\"text-align:right\">1620188065</td><td style=\"text-align:left\">Jun 6 2018</td><td style=\"text-align:left\">22:00</td><td style=\"text-align:left\">07:04</td><td style=\"text-align:left\">07:11</td><td style=\"text-align:right\">10884.9</td></tr><tr><td style=\"text-align:right\">1616050069</td><td style=\"text-align:left\">Jun 4 2018</td><td style=\"text-align:left\">22:01</td><td style=\"text-align:left\">07:05</td><td style=\"text-align:left\">07:10</td><td style=\"text-align:right\">10030.5</td></tr><tr><td style=\"text-align:right\">1475714025</td><td style=\"text-align:left\">Mar 28 2018</td><td style=\"text-align:left\">22:15</td><td style=\"text-align:left\">07:09</td><td style=\"text-align:left\">07:12</td><td style=\"text-align:right\">6949.4</td></tr><tr><td style=\"text-align:right\">1581401227</td><td style=\"text-align:left\">May 19 2018</td><td style=\"text-align:left\">22:15</td><td style=\"text-align:left\">07:09</td><td style=\"text-align:left\">07:17</td><td style=\"text-align:right\">13635.2</td></tr><tr><td style=\"text-align:right\">1609355524</td><td style=\"text-align:left\">Jun 1 2018</td><td style=\"text-align:left\">22:16</td><td style=\"text-align:left\">07:10</td><td style=\"text-align:left\">07:13</td><td style=\"text-align:right\">10701.7</td></tr><tr><td style=\"text-align:right\">1485759514</td><td style=\"text-align:left\">Apr 2 2018</td><td style=\"text-align:left\">22:20</td><td style=\"text-align:left\">07:11</td><td style=\"text-align:left\">07:14</td><td style=\"text-align:right\">7772.0</td></tr><tr><td style=\"text-align:right\">1559310491</td><td style=\"text-align:left\">May 9 2018</td><td style=\"text-align:left\">22:20</td><td style=\"text-align:left\">07:11</td><td style=\"text-align:left\">07:14</td><td style=\"text-align:right\">9019.7</td></tr></table>"
      ],
      "text/plain": [
       "     run.id | dateOfRun   | time  | pace  | overallPace | totalDistance \r\n",
       "------------|-------------|-------|-------|-------------|---------------\r\n",
       " 1611168962 | Jun 2 2018  | 21:24 | 06:53 | 07:07       |       13039.8 \r\n",
       " 1626636004 | Jun 9 2018  | 21:34 | 06:56 | 07:05       |       11043.2 \r\n",
       " 1366081623 | Jan 20 2018 | 21:55 | 07:03 | 07:16       |        8684.0 \r\n",
       " 1620188065 | Jun 6 2018  | 22:00 | 07:04 | 07:11       |       10884.9 \r\n",
       " 1616050069 | Jun 4 2018  | 22:01 | 07:05 | 07:10       |       10030.5 \r\n",
       " 1475714025 | Mar 28 2018 | 22:15 | 07:09 | 07:12       |        6949.4 \r\n",
       " 1581401227 | May 19 2018 | 22:15 | 07:09 | 07:17       |       13635.2 \r\n",
       " 1609355524 | Jun 1 2018  | 22:16 | 07:10 | 07:13       |       10701.7 \r\n",
       " 1485759514 | Apr 2 2018  | 22:20 | 07:11 | 07:14       |        7772.0 \r\n",
       " 1559310491 | May 9 2018  | 22:20 | 07:11 | 07:14       |        9019.7 \r\n"
      ]
     },
     "execution_count": 7,
     "metadata": {},
     "output_type": "execute_result"
    }
   ],
   "source": [
    "graph.run(estimated_effort_query, {\"distance\": \"5k\", \"limit\": 10}).to_table()"
   ]
  },
  {
   "cell_type": "code",
   "execution_count": 8,
   "metadata": {},
   "outputs": [
    {
     "data": {
      "text/html": [
       "<table><tr><th>run.id</th><th>dateOfRun</th><th>time</th><th>pace</th><th>overallPace</th><th>totalDistance</th></tr><tr><td style=\"text-align:right\">1620188065</td><td style=\"text-align:left\">Jun 6 2018</td><td style=\"text-align:left\">03:58</td><td style=\"text-align:left\">06:23</td><td style=\"text-align:left\">07:11</td><td style=\"text-align:right\">10884.9</td></tr><tr><td style=\"text-align:right\">914796614</td><td style=\"text-align:left\">Mar 26 2017</td><td style=\"text-align:left\">04:08</td><td style=\"text-align:left\">06:39</td><td style=\"text-align:left\">07:26</td><td style=\"text-align:right\">5355.8</td></tr><tr><td style=\"text-align:right\">1544469717</td><td style=\"text-align:left\">May 2 2018</td><td style=\"text-align:left\">04:08</td><td style=\"text-align:left\">06:39</td><td style=\"text-align:left\">07:27</td><td style=\"text-align:right\">8560.3</td></tr><tr><td style=\"text-align:right\">1626636004</td><td style=\"text-align:left\">Jun 9 2018</td><td style=\"text-align:left\">04:08</td><td style=\"text-align:left\">06:39</td><td style=\"text-align:left\">07:05</td><td style=\"text-align:right\">11043.2</td></tr><tr><td style=\"text-align:right\">1366081623</td><td style=\"text-align:left\">Jan 20 2018</td><td style=\"text-align:left\">04:10</td><td style=\"text-align:left\">06:42</td><td style=\"text-align:left\">07:16</td><td style=\"text-align:right\">8684.0</td></tr><tr><td style=\"text-align:right\">1485759514</td><td style=\"text-align:left\">Apr 2 2018</td><td style=\"text-align:left\">04:10</td><td style=\"text-align:left\">06:42</td><td style=\"text-align:left\">07:14</td><td style=\"text-align:right\">7772.0</td></tr><tr><td style=\"text-align:right\">1609355524</td><td style=\"text-align:left\">Jun 1 2018</td><td style=\"text-align:left\">04:10</td><td style=\"text-align:left\">06:42</td><td style=\"text-align:left\">07:13</td><td style=\"text-align:right\">10701.7</td></tr><tr><td style=\"text-align:right\">1611168962</td><td style=\"text-align:left\">Jun 2 2018</td><td style=\"text-align:left\">04:10</td><td style=\"text-align:left\">06:42</td><td style=\"text-align:left\">07:07</td><td style=\"text-align:right\">13039.8</td></tr><tr><td style=\"text-align:right\">1594415412</td><td style=\"text-align:left\">May 25 2018</td><td style=\"text-align:left\">04:11</td><td style=\"text-align:left\">06:43</td><td style=\"text-align:left\">07:27</td><td style=\"text-align:right\">11690.0</td></tr><tr><td style=\"text-align:right\">1563554226</td><td style=\"text-align:left\">May 11 2018</td><td style=\"text-align:left\">04:12</td><td style=\"text-align:left\">06:45</td><td style=\"text-align:left\">07:28</td><td style=\"text-align:right\">9084.8</td></tr></table>"
      ],
      "text/plain": [
       "     run.id | dateOfRun   | time  | pace  | overallPace | totalDistance \r\n",
       "------------|-------------|-------|-------|-------------|---------------\r\n",
       " 1620188065 | Jun 6 2018  | 03:58 | 06:23 | 07:11       |       10884.9 \r\n",
       "  914796614 | Mar 26 2017 | 04:08 | 06:39 | 07:26       |        5355.8 \r\n",
       " 1544469717 | May 2 2018  | 04:08 | 06:39 | 07:27       |        8560.3 \r\n",
       " 1626636004 | Jun 9 2018  | 04:08 | 06:39 | 07:05       |       11043.2 \r\n",
       " 1366081623 | Jan 20 2018 | 04:10 | 06:42 | 07:16       |        8684.0 \r\n",
       " 1485759514 | Apr 2 2018  | 04:10 | 06:42 | 07:14       |        7772.0 \r\n",
       " 1609355524 | Jun 1 2018  | 04:10 | 06:42 | 07:13       |       10701.7 \r\n",
       " 1611168962 | Jun 2 2018  | 04:10 | 06:42 | 07:07       |       13039.8 \r\n",
       " 1594415412 | May 25 2018 | 04:11 | 06:43 | 07:27       |       11690.0 \r\n",
       " 1563554226 | May 11 2018 | 04:12 | 06:45 | 07:28       |        9084.8 \r\n"
      ]
     },
     "execution_count": 8,
     "metadata": {},
     "output_type": "execute_result"
    }
   ],
   "source": [
    "graph.run(estimated_effort_query, {\"distance\": \"1k\", \"limit\": 10}).to_table()"
   ]
  },
  {
   "cell_type": "markdown",
   "metadata": {},
   "source": [
    "# Combining estimated runs\n",
    "\n",
    "What if I want to combine my efforts for multiple distances in a single row? \n",
    "Instead of returning a table of results we can use the `to_data_frame` function to return a Pandas DataFrame and then join those DataFrames:"
   ]
  },
  {
   "cell_type": "code",
   "execution_count": 9,
   "metadata": {
    "collapsed": true
   },
   "outputs": [],
   "source": [
    "import pandas as pd"
   ]
  },
  {
   "cell_type": "code",
   "execution_count": 18,
   "metadata": {},
   "outputs": [
    {
     "data": {
      "text/html": [
       "<div>\n",
       "<style scoped>\n",
       "    .dataframe tbody tr th:only-of-type {\n",
       "        vertical-align: middle;\n",
       "    }\n",
       "\n",
       "    .dataframe tbody tr th {\n",
       "        vertical-align: top;\n",
       "    }\n",
       "\n",
       "    .dataframe thead th {\n",
       "        text-align: right;\n",
       "    }\n",
       "</style>\n",
       "<table border=\"1\" class=\"dataframe\">\n",
       "  <thead>\n",
       "    <tr style=\"text-align: right;\">\n",
       "      <th></th>\n",
       "      <th>run.id</th>\n",
       "      <th>dateOfRun_x</th>\n",
       "      <th>time_x</th>\n",
       "      <th>pace_x</th>\n",
       "      <th>time_y</th>\n",
       "      <th>pace_y</th>\n",
       "    </tr>\n",
       "  </thead>\n",
       "  <tbody>\n",
       "    <tr>\n",
       "      <th>0</th>\n",
       "      <td>1611168962</td>\n",
       "      <td>Jun 2 2018</td>\n",
       "      <td>21:24</td>\n",
       "      <td>06:53</td>\n",
       "      <td>44:12</td>\n",
       "      <td>07:06</td>\n",
       "    </tr>\n",
       "    <tr>\n",
       "      <th>1</th>\n",
       "      <td>1626636004</td>\n",
       "      <td>Jun 9 2018</td>\n",
       "      <td>21:34</td>\n",
       "      <td>06:56</td>\n",
       "      <td>44:05</td>\n",
       "      <td>07:05</td>\n",
       "    </tr>\n",
       "    <tr>\n",
       "      <th>2</th>\n",
       "      <td>1620188065</td>\n",
       "      <td>Jun 6 2018</td>\n",
       "      <td>22:00</td>\n",
       "      <td>07:04</td>\n",
       "      <td>44:49</td>\n",
       "      <td>07:12</td>\n",
       "    </tr>\n",
       "    <tr>\n",
       "      <th>3</th>\n",
       "      <td>1616050069</td>\n",
       "      <td>Jun 4 2018</td>\n",
       "      <td>22:01</td>\n",
       "      <td>07:05</td>\n",
       "      <td>44:35</td>\n",
       "      <td>07:10</td>\n",
       "    </tr>\n",
       "    <tr>\n",
       "      <th>4</th>\n",
       "      <td>1581401227</td>\n",
       "      <td>May 19 2018</td>\n",
       "      <td>22:15</td>\n",
       "      <td>07:09</td>\n",
       "      <td>45:02</td>\n",
       "      <td>07:14</td>\n",
       "    </tr>\n",
       "    <tr>\n",
       "      <th>5</th>\n",
       "      <td>1609355524</td>\n",
       "      <td>Jun 1 2018</td>\n",
       "      <td>22:16</td>\n",
       "      <td>07:10</td>\n",
       "      <td>44:59</td>\n",
       "      <td>07:14</td>\n",
       "    </tr>\n",
       "    <tr>\n",
       "      <th>6</th>\n",
       "      <td>1635264102</td>\n",
       "      <td>Jun 13 2018</td>\n",
       "      <td>22:20</td>\n",
       "      <td>07:11</td>\n",
       "      <td>45:48</td>\n",
       "      <td>07:22</td>\n",
       "    </tr>\n",
       "    <tr>\n",
       "      <th>7</th>\n",
       "      <td>1585759604</td>\n",
       "      <td>May 21 2018</td>\n",
       "      <td>22:27</td>\n",
       "      <td>07:13</td>\n",
       "      <td>45:41</td>\n",
       "      <td>07:21</td>\n",
       "    </tr>\n",
       "    <tr>\n",
       "      <th>8</th>\n",
       "      <td>1600870897</td>\n",
       "      <td>May 28 2018</td>\n",
       "      <td>22:30</td>\n",
       "      <td>07:14</td>\n",
       "      <td>45:51</td>\n",
       "      <td>07:22</td>\n",
       "    </tr>\n",
       "    <tr>\n",
       "      <th>9</th>\n",
       "      <td>1566256778</td>\n",
       "      <td>May 12 2018</td>\n",
       "      <td>22:30</td>\n",
       "      <td>07:14</td>\n",
       "      <td>46:11</td>\n",
       "      <td>07:25</td>\n",
       "    </tr>\n",
       "  </tbody>\n",
       "</table>\n",
       "</div>"
      ],
      "text/plain": [
       "       run.id  dateOfRun_x time_x pace_x time_y pace_y\n",
       "0  1611168962   Jun 2 2018  21:24  06:53  44:12  07:06\n",
       "1  1626636004   Jun 9 2018  21:34  06:56  44:05  07:05\n",
       "2  1620188065   Jun 6 2018  22:00  07:04  44:49  07:12\n",
       "3  1616050069   Jun 4 2018  22:01  07:05  44:35  07:10\n",
       "4  1581401227  May 19 2018  22:15  07:09  45:02  07:14\n",
       "5  1609355524   Jun 1 2018  22:16  07:10  44:59  07:14\n",
       "6  1635264102  Jun 13 2018  22:20  07:11  45:48  07:22\n",
       "7  1585759604  May 21 2018  22:27  07:13  45:41  07:21\n",
       "8  1600870897  May 28 2018  22:30  07:14  45:51  07:22\n",
       "9  1566256778  May 12 2018  22:30  07:14  46:11  07:25"
      ]
     },
     "execution_count": 18,
     "metadata": {},
     "output_type": "execute_result"
    }
   ],
   "source": [
    "df_5k = graph.run(estimated_effort_query, {\"distance\": \"5k\", \"limit\": 1000}).to_data_frame()\n",
    "df_10k = graph.run(estimated_effort_query, {\"distance\": \"10k\", \"limit\": 1000}).to_data_frame()\n",
    "\n",
    "pd.merge(df_5k, df_10k, on=\"run.id\")[[\"run.id\", \"dateOfRun_x\", \"time_x\", \"pace_x\", \"time_y\", \"pace_y\"]].head(10)"
   ]
  },
  {
   "cell_type": "code",
   "execution_count": 11,
   "metadata": {
    "collapsed": true
   },
   "outputs": [],
   "source": [
    "df_1k = graph.run(estimated_effort_query, {\"distance\": \"1k\", \"limit\": 1000}).to_data_frame()\n",
    "df_10k = graph.run(estimated_effort_query, {\"distance\": \"10k\", \"limit\": 1000}).to_data_frame()\n",
    "\n",
    "cols = [\"run.id\", \"dateOfRun_x\", \"time_x\", \"pace_x\", \"time_y\", \"pace_y\"]\n",
    "df_1k_10k = pd.merge(df_1k, df_10k, on=\"run.id\")[cols]"
   ]
  },
  {
   "cell_type": "code",
   "execution_count": 12,
   "metadata": {},
   "outputs": [
    {
     "data": {
      "text/html": [
       "<div>\n",
       "<style scoped>\n",
       "    .dataframe tbody tr th:only-of-type {\n",
       "        vertical-align: middle;\n",
       "    }\n",
       "\n",
       "    .dataframe tbody tr th {\n",
       "        vertical-align: top;\n",
       "    }\n",
       "\n",
       "    .dataframe thead th {\n",
       "        text-align: right;\n",
       "    }\n",
       "</style>\n",
       "<table border=\"1\" class=\"dataframe\">\n",
       "  <thead>\n",
       "    <tr style=\"text-align: right;\">\n",
       "      <th></th>\n",
       "      <th>run.id</th>\n",
       "      <th>dateOfRun_x</th>\n",
       "      <th>time_x</th>\n",
       "      <th>pace_x</th>\n",
       "      <th>time_y</th>\n",
       "      <th>pace_y</th>\n",
       "    </tr>\n",
       "  </thead>\n",
       "  <tbody>\n",
       "    <tr>\n",
       "      <th>1</th>\n",
       "      <td>1626636004</td>\n",
       "      <td>Jun 9 2018</td>\n",
       "      <td>04:08</td>\n",
       "      <td>06:39</td>\n",
       "      <td>44:05</td>\n",
       "      <td>07:05</td>\n",
       "    </tr>\n",
       "    <tr>\n",
       "      <th>3</th>\n",
       "      <td>1611168962</td>\n",
       "      <td>Jun 2 2018</td>\n",
       "      <td>04:10</td>\n",
       "      <td>06:42</td>\n",
       "      <td>44:12</td>\n",
       "      <td>07:06</td>\n",
       "    </tr>\n",
       "    <tr>\n",
       "      <th>7</th>\n",
       "      <td>1616050069</td>\n",
       "      <td>Jun 4 2018</td>\n",
       "      <td>04:16</td>\n",
       "      <td>06:51</td>\n",
       "      <td>44:35</td>\n",
       "      <td>07:10</td>\n",
       "    </tr>\n",
       "    <tr>\n",
       "      <th>0</th>\n",
       "      <td>1620188065</td>\n",
       "      <td>Jun 6 2018</td>\n",
       "      <td>03:58</td>\n",
       "      <td>06:23</td>\n",
       "      <td>44:49</td>\n",
       "      <td>07:12</td>\n",
       "    </tr>\n",
       "    <tr>\n",
       "      <th>2</th>\n",
       "      <td>1609355524</td>\n",
       "      <td>Jun 1 2018</td>\n",
       "      <td>04:10</td>\n",
       "      <td>06:42</td>\n",
       "      <td>44:59</td>\n",
       "      <td>07:14</td>\n",
       "    </tr>\n",
       "    <tr>\n",
       "      <th>13</th>\n",
       "      <td>1581401227</td>\n",
       "      <td>May 19 2018</td>\n",
       "      <td>04:19</td>\n",
       "      <td>06:56</td>\n",
       "      <td>45:02</td>\n",
       "      <td>07:14</td>\n",
       "    </tr>\n",
       "    <tr>\n",
       "      <th>6</th>\n",
       "      <td>1550422417</td>\n",
       "      <td>May 5 2018</td>\n",
       "      <td>04:14</td>\n",
       "      <td>06:48</td>\n",
       "      <td>45:26</td>\n",
       "      <td>07:18</td>\n",
       "    </tr>\n",
       "    <tr>\n",
       "      <th>18</th>\n",
       "      <td>1585759604</td>\n",
       "      <td>May 21 2018</td>\n",
       "      <td>04:22</td>\n",
       "      <td>07:01</td>\n",
       "      <td>45:41</td>\n",
       "      <td>07:21</td>\n",
       "    </tr>\n",
       "    <tr>\n",
       "      <th>5</th>\n",
       "      <td>1635264102</td>\n",
       "      <td>Jun 13 2018</td>\n",
       "      <td>04:13</td>\n",
       "      <td>06:47</td>\n",
       "      <td>45:48</td>\n",
       "      <td>07:22</td>\n",
       "    </tr>\n",
       "    <tr>\n",
       "      <th>11</th>\n",
       "      <td>1575082905</td>\n",
       "      <td>May 16 2018</td>\n",
       "      <td>04:17</td>\n",
       "      <td>06:53</td>\n",
       "      <td>45:49</td>\n",
       "      <td>07:22</td>\n",
       "    </tr>\n",
       "  </tbody>\n",
       "</table>\n",
       "</div>"
      ],
      "text/plain": [
       "        run.id  dateOfRun_x time_x pace_x time_y pace_y\n",
       "1   1626636004   Jun 9 2018  04:08  06:39  44:05  07:05\n",
       "3   1611168962   Jun 2 2018  04:10  06:42  44:12  07:06\n",
       "7   1616050069   Jun 4 2018  04:16  06:51  44:35  07:10\n",
       "0   1620188065   Jun 6 2018  03:58  06:23  44:49  07:12\n",
       "2   1609355524   Jun 1 2018  04:10  06:42  44:59  07:14\n",
       "13  1581401227  May 19 2018  04:19  06:56  45:02  07:14\n",
       "6   1550422417   May 5 2018  04:14  06:48  45:26  07:18\n",
       "18  1585759604  May 21 2018  04:22  07:01  45:41  07:21\n",
       "5   1635264102  Jun 13 2018  04:13  06:47  45:48  07:22\n",
       "11  1575082905  May 16 2018  04:17  06:53  45:49  07:22"
      ]
     },
     "execution_count": 12,
     "metadata": {},
     "output_type": "execute_result"
    }
   ],
   "source": [
    "df_1k_10k.sort_values(by=['time_y']).head(10)"
   ]
  },
  {
   "cell_type": "code",
   "execution_count": 13,
   "metadata": {},
   "outputs": [
    {
     "data": {
      "text/html": [
       "<div>\n",
       "<style scoped>\n",
       "    .dataframe tbody tr th:only-of-type {\n",
       "        vertical-align: middle;\n",
       "    }\n",
       "\n",
       "    .dataframe tbody tr th {\n",
       "        vertical-align: top;\n",
       "    }\n",
       "\n",
       "    .dataframe thead th {\n",
       "        text-align: right;\n",
       "    }\n",
       "</style>\n",
       "<table border=\"1\" class=\"dataframe\">\n",
       "  <thead>\n",
       "    <tr style=\"text-align: right;\">\n",
       "      <th></th>\n",
       "      <th>run.id</th>\n",
       "      <th>dateOfRun_x</th>\n",
       "      <th>time_x</th>\n",
       "      <th>pace_x</th>\n",
       "      <th>time_y</th>\n",
       "      <th>pace_y</th>\n",
       "    </tr>\n",
       "  </thead>\n",
       "  <tbody>\n",
       "    <tr>\n",
       "      <th>0</th>\n",
       "      <td>1620188065</td>\n",
       "      <td>Jun 6 2018</td>\n",
       "      <td>03:58</td>\n",
       "      <td>06:23</td>\n",
       "      <td>44:49</td>\n",
       "      <td>07:12</td>\n",
       "    </tr>\n",
       "    <tr>\n",
       "      <th>1</th>\n",
       "      <td>1626636004</td>\n",
       "      <td>Jun 9 2018</td>\n",
       "      <td>04:08</td>\n",
       "      <td>06:39</td>\n",
       "      <td>44:05</td>\n",
       "      <td>07:05</td>\n",
       "    </tr>\n",
       "    <tr>\n",
       "      <th>2</th>\n",
       "      <td>1609355524</td>\n",
       "      <td>Jun 1 2018</td>\n",
       "      <td>04:10</td>\n",
       "      <td>06:42</td>\n",
       "      <td>44:59</td>\n",
       "      <td>07:14</td>\n",
       "    </tr>\n",
       "    <tr>\n",
       "      <th>3</th>\n",
       "      <td>1611168962</td>\n",
       "      <td>Jun 2 2018</td>\n",
       "      <td>04:10</td>\n",
       "      <td>06:42</td>\n",
       "      <td>44:12</td>\n",
       "      <td>07:06</td>\n",
       "    </tr>\n",
       "    <tr>\n",
       "      <th>4</th>\n",
       "      <td>1594415412</td>\n",
       "      <td>May 25 2018</td>\n",
       "      <td>04:11</td>\n",
       "      <td>06:43</td>\n",
       "      <td>46:22</td>\n",
       "      <td>07:27</td>\n",
       "    </tr>\n",
       "    <tr>\n",
       "      <th>5</th>\n",
       "      <td>1635264102</td>\n",
       "      <td>Jun 13 2018</td>\n",
       "      <td>04:13</td>\n",
       "      <td>06:47</td>\n",
       "      <td>45:48</td>\n",
       "      <td>07:22</td>\n",
       "    </tr>\n",
       "    <tr>\n",
       "      <th>6</th>\n",
       "      <td>1550422417</td>\n",
       "      <td>May 5 2018</td>\n",
       "      <td>04:14</td>\n",
       "      <td>06:48</td>\n",
       "      <td>45:26</td>\n",
       "      <td>07:18</td>\n",
       "    </tr>\n",
       "    <tr>\n",
       "      <th>7</th>\n",
       "      <td>1616050069</td>\n",
       "      <td>Jun 4 2018</td>\n",
       "      <td>04:16</td>\n",
       "      <td>06:51</td>\n",
       "      <td>44:35</td>\n",
       "      <td>07:10</td>\n",
       "    </tr>\n",
       "    <tr>\n",
       "      <th>8</th>\n",
       "      <td>1566256778</td>\n",
       "      <td>May 12 2018</td>\n",
       "      <td>04:16</td>\n",
       "      <td>06:51</td>\n",
       "      <td>46:11</td>\n",
       "      <td>07:25</td>\n",
       "    </tr>\n",
       "    <tr>\n",
       "      <th>9</th>\n",
       "      <td>1631066785</td>\n",
       "      <td>Jun 11 2018</td>\n",
       "      <td>04:17</td>\n",
       "      <td>06:53</td>\n",
       "      <td>45:54</td>\n",
       "      <td>07:23</td>\n",
       "    </tr>\n",
       "  </tbody>\n",
       "</table>\n",
       "</div>"
      ],
      "text/plain": [
       "       run.id  dateOfRun_x time_x pace_x time_y pace_y\n",
       "0  1620188065   Jun 6 2018  03:58  06:23  44:49  07:12\n",
       "1  1626636004   Jun 9 2018  04:08  06:39  44:05  07:05\n",
       "2  1609355524   Jun 1 2018  04:10  06:42  44:59  07:14\n",
       "3  1611168962   Jun 2 2018  04:10  06:42  44:12  07:06\n",
       "4  1594415412  May 25 2018  04:11  06:43  46:22  07:27\n",
       "5  1635264102  Jun 13 2018  04:13  06:47  45:48  07:22\n",
       "6  1550422417   May 5 2018  04:14  06:48  45:26  07:18\n",
       "7  1616050069   Jun 4 2018  04:16  06:51  44:35  07:10\n",
       "8  1566256778  May 12 2018  04:16  06:51  46:11  07:25\n",
       "9  1631066785  Jun 11 2018  04:17  06:53  45:54  07:23"
      ]
     },
     "execution_count": 13,
     "metadata": {},
     "output_type": "execute_result"
    }
   ],
   "source": [
    "df_1k_10k.sort_values(by=['time_x']).head(10)"
   ]
  },
  {
   "cell_type": "code",
   "execution_count": 14,
   "metadata": {
    "collapsed": true
   },
   "outputs": [],
   "source": [
    "df_2mile = graph.run(estimated_effort_query, {\"distance\": \"2 mile\", \"limit\": 1000}).to_data_frame()\n",
    "df_10k = graph.run(estimated_effort_query, {\"distance\": \"10k\", \"limit\": 1000}).to_data_frame()\n",
    "\n",
    "cols = [\"run.id\", \"dateOfRun_x\", \"time_x\", \"pace_x\", \"time_y\", \"pace_y\"]\n",
    "df_2mile_10k = pd.merge(df_2mile, df_10k, on=\"run.id\")[cols]"
   ]
  },
  {
   "cell_type": "code",
   "execution_count": 15,
   "metadata": {},
   "outputs": [
    {
     "data": {
      "text/html": [
       "<div>\n",
       "<style scoped>\n",
       "    .dataframe tbody tr th:only-of-type {\n",
       "        vertical-align: middle;\n",
       "    }\n",
       "\n",
       "    .dataframe tbody tr th {\n",
       "        vertical-align: top;\n",
       "    }\n",
       "\n",
       "    .dataframe thead th {\n",
       "        text-align: right;\n",
       "    }\n",
       "</style>\n",
       "<table border=\"1\" class=\"dataframe\">\n",
       "  <thead>\n",
       "    <tr style=\"text-align: right;\">\n",
       "      <th></th>\n",
       "      <th>run.id</th>\n",
       "      <th>dateOfRun_x</th>\n",
       "      <th>time_x</th>\n",
       "      <th>pace_x</th>\n",
       "      <th>time_y</th>\n",
       "      <th>pace_y</th>\n",
       "    </tr>\n",
       "  </thead>\n",
       "  <tbody>\n",
       "    <tr>\n",
       "      <th>0</th>\n",
       "      <td>1620188065</td>\n",
       "      <td>Jun 6 2018</td>\n",
       "      <td>13:38</td>\n",
       "      <td>06:48</td>\n",
       "      <td>44:49</td>\n",
       "      <td>07:12</td>\n",
       "    </tr>\n",
       "    <tr>\n",
       "      <th>1</th>\n",
       "      <td>1626636004</td>\n",
       "      <td>Jun 9 2018</td>\n",
       "      <td>13:42</td>\n",
       "      <td>06:50</td>\n",
       "      <td>44:05</td>\n",
       "      <td>07:05</td>\n",
       "    </tr>\n",
       "    <tr>\n",
       "      <th>2</th>\n",
       "      <td>1611168962</td>\n",
       "      <td>Jun 2 2018</td>\n",
       "      <td>13:47</td>\n",
       "      <td>06:53</td>\n",
       "      <td>44:12</td>\n",
       "      <td>07:06</td>\n",
       "    </tr>\n",
       "    <tr>\n",
       "      <th>3</th>\n",
       "      <td>1616050069</td>\n",
       "      <td>Jun 4 2018</td>\n",
       "      <td>14:08</td>\n",
       "      <td>07:03</td>\n",
       "      <td>44:35</td>\n",
       "      <td>07:10</td>\n",
       "    </tr>\n",
       "    <tr>\n",
       "      <th>4</th>\n",
       "      <td>1581401227</td>\n",
       "      <td>May 19 2018</td>\n",
       "      <td>14:13</td>\n",
       "      <td>07:06</td>\n",
       "      <td>45:02</td>\n",
       "      <td>07:14</td>\n",
       "    </tr>\n",
       "    <tr>\n",
       "      <th>5</th>\n",
       "      <td>1609355524</td>\n",
       "      <td>Jun 1 2018</td>\n",
       "      <td>14:14</td>\n",
       "      <td>07:06</td>\n",
       "      <td>44:59</td>\n",
       "      <td>07:14</td>\n",
       "    </tr>\n",
       "    <tr>\n",
       "      <th>6</th>\n",
       "      <td>1594415412</td>\n",
       "      <td>May 25 2018</td>\n",
       "      <td>14:15</td>\n",
       "      <td>07:07</td>\n",
       "      <td>46:22</td>\n",
       "      <td>07:27</td>\n",
       "    </tr>\n",
       "    <tr>\n",
       "      <th>7</th>\n",
       "      <td>1575082905</td>\n",
       "      <td>May 16 2018</td>\n",
       "      <td>14:17</td>\n",
       "      <td>07:08</td>\n",
       "      <td>45:49</td>\n",
       "      <td>07:22</td>\n",
       "    </tr>\n",
       "    <tr>\n",
       "      <th>8</th>\n",
       "      <td>1631066785</td>\n",
       "      <td>Jun 11 2018</td>\n",
       "      <td>14:17</td>\n",
       "      <td>07:08</td>\n",
       "      <td>45:54</td>\n",
       "      <td>07:23</td>\n",
       "    </tr>\n",
       "    <tr>\n",
       "      <th>9</th>\n",
       "      <td>1579256510</td>\n",
       "      <td>May 18 2018</td>\n",
       "      <td>14:18</td>\n",
       "      <td>07:08</td>\n",
       "      <td>46:19</td>\n",
       "      <td>07:27</td>\n",
       "    </tr>\n",
       "  </tbody>\n",
       "</table>\n",
       "</div>"
      ],
      "text/plain": [
       "       run.id  dateOfRun_x time_x pace_x time_y pace_y\n",
       "0  1620188065   Jun 6 2018  13:38  06:48  44:49  07:12\n",
       "1  1626636004   Jun 9 2018  13:42  06:50  44:05  07:05\n",
       "2  1611168962   Jun 2 2018  13:47  06:53  44:12  07:06\n",
       "3  1616050069   Jun 4 2018  14:08  07:03  44:35  07:10\n",
       "4  1581401227  May 19 2018  14:13  07:06  45:02  07:14\n",
       "5  1609355524   Jun 1 2018  14:14  07:06  44:59  07:14\n",
       "6  1594415412  May 25 2018  14:15  07:07  46:22  07:27\n",
       "7  1575082905  May 16 2018  14:17  07:08  45:49  07:22\n",
       "8  1631066785  Jun 11 2018  14:17  07:08  45:54  07:23\n",
       "9  1579256510  May 18 2018  14:18  07:08  46:19  07:27"
      ]
     },
     "execution_count": 15,
     "metadata": {},
     "output_type": "execute_result"
    }
   ],
   "source": [
    "df_2mile_10k.sort_values(by=['time_x']).head(10)"
   ]
  },
  {
   "cell_type": "code",
   "execution_count": 16,
   "metadata": {},
   "outputs": [
    {
     "data": {
      "text/html": [
       "<table><tr><th>dateOfRun</th><th>time5k</th><th>pace5k</th><th>time10k</th><th>pace10k</th><th>totalDistance</th></tr><tr><td style=\"text-align:left\">Jun 2 2018</td><td style=\"text-align:left\">21:24</td><td style=\"text-align:left\">06:53</td><td style=\"text-align:left\">44:12</td><td style=\"text-align:left\">07:06</td><td style=\"text-align:right\">13039.8</td></tr><tr><td style=\"text-align:left\">Jun 9 2018</td><td style=\"text-align:left\">21:34</td><td style=\"text-align:left\">06:56</td><td style=\"text-align:left\">44:05</td><td style=\"text-align:left\">07:05</td><td style=\"text-align:right\">11043.2</td></tr><tr><td style=\"text-align:left\">Jun 6 2018</td><td style=\"text-align:left\">22:00</td><td style=\"text-align:left\">07:04</td><td style=\"text-align:left\">44:49</td><td style=\"text-align:left\">07:12</td><td style=\"text-align:right\">10884.9</td></tr><tr><td style=\"text-align:left\">Jun 4 2018</td><td style=\"text-align:left\">22:01</td><td style=\"text-align:left\">07:05</td><td style=\"text-align:left\">44:35</td><td style=\"text-align:left\">07:10</td><td style=\"text-align:right\">10030.5</td></tr><tr><td style=\"text-align:left\">May 19 2018</td><td style=\"text-align:left\">22:15</td><td style=\"text-align:left\">07:09</td><td style=\"text-align:left\">45:02</td><td style=\"text-align:left\">07:14</td><td style=\"text-align:right\">13635.2</td></tr><tr><td style=\"text-align:left\">Jun 1 2018</td><td style=\"text-align:left\">22:16</td><td style=\"text-align:left\">07:10</td><td style=\"text-align:left\">44:59</td><td style=\"text-align:left\">07:14</td><td style=\"text-align:right\">10701.7</td></tr><tr><td style=\"text-align:left\">Jun 13 2018</td><td style=\"text-align:left\">22:20</td><td style=\"text-align:left\">07:11</td><td style=\"text-align:left\">45:48</td><td style=\"text-align:left\">07:22</td><td style=\"text-align:right\">10780.2</td></tr><tr><td style=\"text-align:left\">May 21 2018</td><td style=\"text-align:left\">22:27</td><td style=\"text-align:left\">07:13</td><td style=\"text-align:left\">45:41</td><td style=\"text-align:left\">07:21</td><td style=\"text-align:right\">10147.0</td></tr><tr><td style=\"text-align:left\">Jun 8 2018</td><td style=\"text-align:left\">22:30</td><td style=\"text-align:left\">07:14</td><td style=\"text-align:left\">46:11</td><td style=\"text-align:left\">07:25</td><td style=\"text-align:right\">11281.2</td></tr><tr><td style=\"text-align:left\">May 12 2018</td><td style=\"text-align:left\">22:30</td><td style=\"text-align:left\">07:14</td><td style=\"text-align:left\">46:11</td><td style=\"text-align:left\">07:25</td><td style=\"text-align:right\">12963.9</td></tr><tr><td style=\"text-align:left\">May 28 2018</td><td style=\"text-align:left\">22:30</td><td style=\"text-align:left\">07:14</td><td style=\"text-align:left\">45:51</td><td style=\"text-align:left\">07:22</td><td style=\"text-align:right\">10193.0</td></tr><tr><td style=\"text-align:left\">May 18 2018</td><td style=\"text-align:left\">22:32</td><td style=\"text-align:left\">07:15</td><td style=\"text-align:left\">46:19</td><td style=\"text-align:left\">07:27</td><td style=\"text-align:right\">10149.5</td></tr><tr><td style=\"text-align:left\">May 5 2018</td><td style=\"text-align:left\">22:33</td><td style=\"text-align:left\">07:15</td><td style=\"text-align:left\">45:26</td><td style=\"text-align:left\">07:18</td><td style=\"text-align:right\">11674.4</td></tr><tr><td style=\"text-align:left\">Jun 11 2018</td><td style=\"text-align:left\">22:38</td><td style=\"text-align:left\">07:17</td><td style=\"text-align:left\">45:54</td><td style=\"text-align:left\">07:23</td><td style=\"text-align:right\">10035.8</td></tr><tr><td style=\"text-align:left\">Jan 27 2018</td><td style=\"text-align:left\">22:38</td><td style=\"text-align:left\">07:17</td><td style=\"text-align:left\">46:17</td><td style=\"text-align:left\">07:26</td><td style=\"text-align:right\">11064.7</td></tr><tr><td style=\"text-align:left\">May 16 2018</td><td style=\"text-align:left\">22:48</td><td style=\"text-align:left\">07:20</td><td style=\"text-align:left\">45:49</td><td style=\"text-align:left\">07:22</td><td style=\"text-align:right\">10148.8</td></tr><tr><td style=\"text-align:left\">Mar 17 2018</td><td style=\"text-align:left\">22:59</td><td style=\"text-align:left\">07:23</td><td style=\"text-align:left\">46:13</td><td style=\"text-align:left\">07:26</td><td style=\"text-align:right\">11299.0</td></tr><tr><td style=\"text-align:left\">Feb 3 2018</td><td style=\"text-align:left\">23:01</td><td style=\"text-align:left\">07:24</td><td style=\"text-align:left\">46:48</td><td style=\"text-align:left\">07:31</td><td style=\"text-align:right\">10705.9</td></tr><tr><td style=\"text-align:left\">May 25 2018</td><td style=\"text-align:left\">23:03</td><td style=\"text-align:left\">07:25</td><td style=\"text-align:left\">46:22</td><td style=\"text-align:left\">07:27</td><td style=\"text-align:right\">11690.0</td></tr><tr><td style=\"text-align:left\">May 26 2018</td><td style=\"text-align:left\">23:14</td><td style=\"text-align:left\">07:28</td><td style=\"text-align:left\">46:43</td><td style=\"text-align:left\">07:31</td><td style=\"text-align:right\">10701.2</td></tr><tr><td style=\"text-align:left\">Mar 3 2018</td><td style=\"text-align:left\">23:16</td><td style=\"text-align:left\">07:29</td><td style=\"text-align:left\">47:08</td><td style=\"text-align:left\">07:35</td><td style=\"text-align:right\">10690.9</td></tr><tr><td style=\"text-align:left\">Dec 29 2017</td><td style=\"text-align:left\">23:20</td><td style=\"text-align:left\">07:30</td><td style=\"text-align:left\">47:49</td><td style=\"text-align:left\">07:41</td><td style=\"text-align:right\">10528.1</td></tr><tr><td style=\"text-align:left\">Mar 14 2018</td><td style=\"text-align:left\">23:21</td><td style=\"text-align:left\">07:30</td><td style=\"text-align:left\">47:26</td><td style=\"text-align:left\">07:38</td><td style=\"text-align:right\">10731.5</td></tr><tr><td style=\"text-align:left\">Feb 17 2018</td><td style=\"text-align:left\">23:41</td><td style=\"text-align:left\">07:37</td><td style=\"text-align:left\">47:27</td><td style=\"text-align:left\">07:38</td><td style=\"text-align:right\">10258.7</td></tr><tr><td style=\"text-align:left\">Jan 22 2017</td><td style=\"text-align:left\">25:44</td><td style=\"text-align:left\">08:16</td><td style=\"text-align:left\">52:50</td><td style=\"text-align:left\">08:30</td><td style=\"text-align:right\">10764.1</td></tr><tr><td style=\"text-align:left\">Jan 10 2016</td><td style=\"text-align:left\">26:34</td><td style=\"text-align:left\">08:33</td><td style=\"text-align:left\">54:08</td><td style=\"text-align:left\">08:42</td><td style=\"text-align:right\">10434.5</td></tr><tr><td style=\"text-align:left\">Jan 16 2016</td><td style=\"text-align:left\">26:37</td><td style=\"text-align:left\">08:34</td><td style=\"text-align:left\">54:46</td><td style=\"text-align:left\">08:48</td><td style=\"text-align:right\">10359.3</td></tr><tr><td style=\"text-align:left\">Jan 2 2016</td><td style=\"text-align:left\">28:22</td><td style=\"text-align:left\">09:07</td><td style=\"text-align:left\">57:03</td><td style=\"text-align:left\">09:10</td><td style=\"text-align:right\">10457.9</td></tr></table>"
      ],
      "text/plain": [
       " dateOfRun   | time5k | pace5k | time10k | pace10k | totalDistance \r\n",
       "-------------|--------|--------|---------|---------|---------------\r\n",
       " Jun 2 2018  | 21:24  | 06:53  | 44:12   | 07:06   |       13039.8 \r\n",
       " Jun 9 2018  | 21:34  | 06:56  | 44:05   | 07:05   |       11043.2 \r\n",
       " Jun 6 2018  | 22:00  | 07:04  | 44:49   | 07:12   |       10884.9 \r\n",
       " Jun 4 2018  | 22:01  | 07:05  | 44:35   | 07:10   |       10030.5 \r\n",
       " May 19 2018 | 22:15  | 07:09  | 45:02   | 07:14   |       13635.2 \r\n",
       " Jun 1 2018  | 22:16  | 07:10  | 44:59   | 07:14   |       10701.7 \r\n",
       " Jun 13 2018 | 22:20  | 07:11  | 45:48   | 07:22   |       10780.2 \r\n",
       " May 21 2018 | 22:27  | 07:13  | 45:41   | 07:21   |       10147.0 \r\n",
       " Jun 8 2018  | 22:30  | 07:14  | 46:11   | 07:25   |       11281.2 \r\n",
       " May 12 2018 | 22:30  | 07:14  | 46:11   | 07:25   |       12963.9 \r\n",
       " May 28 2018 | 22:30  | 07:14  | 45:51   | 07:22   |       10193.0 \r\n",
       " May 18 2018 | 22:32  | 07:15  | 46:19   | 07:27   |       10149.5 \r\n",
       " May 5 2018  | 22:33  | 07:15  | 45:26   | 07:18   |       11674.4 \r\n",
       " Jun 11 2018 | 22:38  | 07:17  | 45:54   | 07:23   |       10035.8 \r\n",
       " Jan 27 2018 | 22:38  | 07:17  | 46:17   | 07:26   |       11064.7 \r\n",
       " May 16 2018 | 22:48  | 07:20  | 45:49   | 07:22   |       10148.8 \r\n",
       " Mar 17 2018 | 22:59  | 07:23  | 46:13   | 07:26   |       11299.0 \r\n",
       " Feb 3 2018  | 23:01  | 07:24  | 46:48   | 07:31   |       10705.9 \r\n",
       " May 25 2018 | 23:03  | 07:25  | 46:22   | 07:27   |       11690.0 \r\n",
       " May 26 2018 | 23:14  | 07:28  | 46:43   | 07:31   |       10701.2 \r\n",
       " Mar 3 2018  | 23:16  | 07:29  | 47:08   | 07:35   |       10690.9 \r\n",
       " Dec 29 2017 | 23:20  | 07:30  | 47:49   | 07:41   |       10528.1 \r\n",
       " Mar 14 2018 | 23:21  | 07:30  | 47:26   | 07:38   |       10731.5 \r\n",
       " Feb 17 2018 | 23:41  | 07:37  | 47:27   | 07:38   |       10258.7 \r\n",
       " Jan 22 2017 | 25:44  | 08:16  | 52:50   | 08:30   |       10764.1 \r\n",
       " Jan 10 2016 | 26:34  | 08:33  | 54:08   | 08:42   |       10434.5 \r\n",
       " Jan 16 2016 | 26:37  | 08:34  | 54:46   | 08:48   |       10359.3 \r\n",
       " Jan 2 2016  | 28:22  | 09:07  | 57:03   | 09:10   |       10457.9 \r\n"
      ]
     },
     "execution_count": 16,
     "metadata": {},
     "output_type": "execute_result"
    }
   ],
   "source": [
    "multiple_efforts_query = \"\"\"\\\n",
    "MATCH (distance10k:Distance {name: {distance1}})<-[:DISTANCE]-(effort10k)<-[:DISTANCE_EFFORT]-(run),\n",
    "      (distance5k:Distance {name: {distance2}})<-[:DISTANCE]-(effort5k)<-[:DISTANCE_EFFORT]-(run)\n",
    "\n",
    "WITH run { .id, .startDate, .distance,\n",
    "           pace: duration({seconds: run.elapsedTime.seconds / run.distance * 1609.34})\n",
    "         },\n",
    "     effort10k { .elapsedTime,\n",
    "              pace: duration({seconds: effort10k.elapsedTime.seconds / distance10k.distance * 1609.34  })\n",
    "            },\n",
    "     effort5k { .elapsedTime,\n",
    "              pace: duration({seconds: effort5k.elapsedTime.seconds / distance5k.distance * 1609.34  })\n",
    "            }            \n",
    "      \n",
    "RETURN apoc.date.format(run.startDate.epochSeconds, 's', 'MMM d yyyy') AS dateOfRun,\n",
    "       apoc.date.format(effort5k.elapsedTime.milliseconds, 'ms', 'mm:ss') AS time5k,\n",
    "       apoc.date.format(effort5k.pace.milliseconds, \"ms\", \"mm:ss\") AS pace5k,\n",
    "apoc.date.format(effort10k.elapsedTime.milliseconds, 'ms', 'mm:ss') AS time10k,\n",
    "\n",
    "       apoc.date.format(effort10k.pace.milliseconds, \"ms\", \"mm:ss\") AS pace10k,\n",
    "       run.distance AS totalDistance \n",
    "ORDER BY effort5k.pace\n",
    "\"\"\"\n",
    "\n",
    "graph.run(multiple_efforts_query, {\"distance1\": \"10k\", \"distance2\": \"5k\"}).to_table()"
   ]
  },
  {
   "cell_type": "code",
   "execution_count": 17,
   "metadata": {},
   "outputs": [
    {
     "data": {
      "text/plain": [
       "<py2neo.database.Cursor at 0x10f735668>"
      ]
     },
     "execution_count": 17,
     "metadata": {},
     "output_type": "execute_result"
    }
   ],
   "source": [
    "graph.run(\"MATCH (r:Run) RETURN r {.id, .name} LIMIT 2\", {\"distance1\": \"10k\", \"distance2\": \"5k\"})"
   ]
  }
 ],
 "metadata": {
  "kernelspec": {
   "display_name": "Python 3",
   "language": "python",
   "name": "python3"
  },
  "language_info": {
   "codemirror_mode": {
    "name": "ipython",
    "version": 3
   },
   "file_extension": ".py",
   "mimetype": "text/x-python",
   "name": "python",
   "nbconvert_exporter": "python",
   "pygments_lexer": "ipython3",
   "version": "3.6.0"
  }
 },
 "nbformat": 4,
 "nbformat_minor": 2
}
